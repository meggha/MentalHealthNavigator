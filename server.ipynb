{
  "nbformat": 4,
  "nbformat_minor": 0,
  "metadata": {
    "colab": {
      "provenance": [],
      "gpuType": "T4"
    },
    "kernelspec": {
      "name": "python3",
      "display_name": "Python 3"
    },
    "language_info": {
      "name": "python"
    },
    "accelerator": "GPU",
    "widgets": {
      "application/vnd.jupyter.widget-state+json": {
        "109212811f2a4e64af512d9517f7c8fc": {
          "model_module": "@jupyter-widgets/controls",
          "model_name": "HBoxModel",
          "model_module_version": "1.5.0",
          "state": {
            "_dom_classes": [],
            "_model_module": "@jupyter-widgets/controls",
            "_model_module_version": "1.5.0",
            "_model_name": "HBoxModel",
            "_view_count": null,
            "_view_module": "@jupyter-widgets/controls",
            "_view_module_version": "1.5.0",
            "_view_name": "HBoxView",
            "box_style": "",
            "children": [
              "IPY_MODEL_1e7b1bad7b914a39a2d6014b94bbaf9f",
              "IPY_MODEL_a375d485da9d4ec1abf72013a87ed689",
              "IPY_MODEL_84cb73ebea1149378da7e9513a6c0075"
            ],
            "layout": "IPY_MODEL_0f97e24a5014416380eed6d5021e0584"
          }
        },
        "1e7b1bad7b914a39a2d6014b94bbaf9f": {
          "model_module": "@jupyter-widgets/controls",
          "model_name": "HTMLModel",
          "model_module_version": "1.5.0",
          "state": {
            "_dom_classes": [],
            "_model_module": "@jupyter-widgets/controls",
            "_model_module_version": "1.5.0",
            "_model_name": "HTMLModel",
            "_view_count": null,
            "_view_module": "@jupyter-widgets/controls",
            "_view_module_version": "1.5.0",
            "_view_name": "HTMLView",
            "description": "",
            "description_tooltip": null,
            "layout": "IPY_MODEL_608e3106063c4addabc10a0a5e0cf285",
            "placeholder": "​",
            "style": "IPY_MODEL_6dc6fe3efba4425e91d6984579ff6f75",
            "value": "Loading checkpoint shards: 100%"
          }
        },
        "a375d485da9d4ec1abf72013a87ed689": {
          "model_module": "@jupyter-widgets/controls",
          "model_name": "FloatProgressModel",
          "model_module_version": "1.5.0",
          "state": {
            "_dom_classes": [],
            "_model_module": "@jupyter-widgets/controls",
            "_model_module_version": "1.5.0",
            "_model_name": "FloatProgressModel",
            "_view_count": null,
            "_view_module": "@jupyter-widgets/controls",
            "_view_module_version": "1.5.0",
            "_view_name": "ProgressView",
            "bar_style": "success",
            "description": "",
            "description_tooltip": null,
            "layout": "IPY_MODEL_d03db78d25094267b55baee8313fbaa5",
            "max": 2,
            "min": 0,
            "orientation": "horizontal",
            "style": "IPY_MODEL_1296ce71edf34e4b89ff0cd23091cd42",
            "value": 2
          }
        },
        "84cb73ebea1149378da7e9513a6c0075": {
          "model_module": "@jupyter-widgets/controls",
          "model_name": "HTMLModel",
          "model_module_version": "1.5.0",
          "state": {
            "_dom_classes": [],
            "_model_module": "@jupyter-widgets/controls",
            "_model_module_version": "1.5.0",
            "_model_name": "HTMLModel",
            "_view_count": null,
            "_view_module": "@jupyter-widgets/controls",
            "_view_module_version": "1.5.0",
            "_view_name": "HTMLView",
            "description": "",
            "description_tooltip": null,
            "layout": "IPY_MODEL_746fe3cb3a114831aeb1f70334322ef0",
            "placeholder": "​",
            "style": "IPY_MODEL_1e5edd89e7e549f0b61270f6fc24823c",
            "value": " 2/2 [02:43&lt;00:00, 70.91s/it]"
          }
        },
        "0f97e24a5014416380eed6d5021e0584": {
          "model_module": "@jupyter-widgets/base",
          "model_name": "LayoutModel",
          "model_module_version": "1.2.0",
          "state": {
            "_model_module": "@jupyter-widgets/base",
            "_model_module_version": "1.2.0",
            "_model_name": "LayoutModel",
            "_view_count": null,
            "_view_module": "@jupyter-widgets/base",
            "_view_module_version": "1.2.0",
            "_view_name": "LayoutView",
            "align_content": null,
            "align_items": null,
            "align_self": null,
            "border": null,
            "bottom": null,
            "display": null,
            "flex": null,
            "flex_flow": null,
            "grid_area": null,
            "grid_auto_columns": null,
            "grid_auto_flow": null,
            "grid_auto_rows": null,
            "grid_column": null,
            "grid_gap": null,
            "grid_row": null,
            "grid_template_areas": null,
            "grid_template_columns": null,
            "grid_template_rows": null,
            "height": null,
            "justify_content": null,
            "justify_items": null,
            "left": null,
            "margin": null,
            "max_height": null,
            "max_width": null,
            "min_height": null,
            "min_width": null,
            "object_fit": null,
            "object_position": null,
            "order": null,
            "overflow": null,
            "overflow_x": null,
            "overflow_y": null,
            "padding": null,
            "right": null,
            "top": null,
            "visibility": null,
            "width": null
          }
        },
        "608e3106063c4addabc10a0a5e0cf285": {
          "model_module": "@jupyter-widgets/base",
          "model_name": "LayoutModel",
          "model_module_version": "1.2.0",
          "state": {
            "_model_module": "@jupyter-widgets/base",
            "_model_module_version": "1.2.0",
            "_model_name": "LayoutModel",
            "_view_count": null,
            "_view_module": "@jupyter-widgets/base",
            "_view_module_version": "1.2.0",
            "_view_name": "LayoutView",
            "align_content": null,
            "align_items": null,
            "align_self": null,
            "border": null,
            "bottom": null,
            "display": null,
            "flex": null,
            "flex_flow": null,
            "grid_area": null,
            "grid_auto_columns": null,
            "grid_auto_flow": null,
            "grid_auto_rows": null,
            "grid_column": null,
            "grid_gap": null,
            "grid_row": null,
            "grid_template_areas": null,
            "grid_template_columns": null,
            "grid_template_rows": null,
            "height": null,
            "justify_content": null,
            "justify_items": null,
            "left": null,
            "margin": null,
            "max_height": null,
            "max_width": null,
            "min_height": null,
            "min_width": null,
            "object_fit": null,
            "object_position": null,
            "order": null,
            "overflow": null,
            "overflow_x": null,
            "overflow_y": null,
            "padding": null,
            "right": null,
            "top": null,
            "visibility": null,
            "width": null
          }
        },
        "6dc6fe3efba4425e91d6984579ff6f75": {
          "model_module": "@jupyter-widgets/controls",
          "model_name": "DescriptionStyleModel",
          "model_module_version": "1.5.0",
          "state": {
            "_model_module": "@jupyter-widgets/controls",
            "_model_module_version": "1.5.0",
            "_model_name": "DescriptionStyleModel",
            "_view_count": null,
            "_view_module": "@jupyter-widgets/base",
            "_view_module_version": "1.2.0",
            "_view_name": "StyleView",
            "description_width": ""
          }
        },
        "d03db78d25094267b55baee8313fbaa5": {
          "model_module": "@jupyter-widgets/base",
          "model_name": "LayoutModel",
          "model_module_version": "1.2.0",
          "state": {
            "_model_module": "@jupyter-widgets/base",
            "_model_module_version": "1.2.0",
            "_model_name": "LayoutModel",
            "_view_count": null,
            "_view_module": "@jupyter-widgets/base",
            "_view_module_version": "1.2.0",
            "_view_name": "LayoutView",
            "align_content": null,
            "align_items": null,
            "align_self": null,
            "border": null,
            "bottom": null,
            "display": null,
            "flex": null,
            "flex_flow": null,
            "grid_area": null,
            "grid_auto_columns": null,
            "grid_auto_flow": null,
            "grid_auto_rows": null,
            "grid_column": null,
            "grid_gap": null,
            "grid_row": null,
            "grid_template_areas": null,
            "grid_template_columns": null,
            "grid_template_rows": null,
            "height": null,
            "justify_content": null,
            "justify_items": null,
            "left": null,
            "margin": null,
            "max_height": null,
            "max_width": null,
            "min_height": null,
            "min_width": null,
            "object_fit": null,
            "object_position": null,
            "order": null,
            "overflow": null,
            "overflow_x": null,
            "overflow_y": null,
            "padding": null,
            "right": null,
            "top": null,
            "visibility": null,
            "width": null
          }
        },
        "1296ce71edf34e4b89ff0cd23091cd42": {
          "model_module": "@jupyter-widgets/controls",
          "model_name": "ProgressStyleModel",
          "model_module_version": "1.5.0",
          "state": {
            "_model_module": "@jupyter-widgets/controls",
            "_model_module_version": "1.5.0",
            "_model_name": "ProgressStyleModel",
            "_view_count": null,
            "_view_module": "@jupyter-widgets/base",
            "_view_module_version": "1.2.0",
            "_view_name": "StyleView",
            "bar_color": null,
            "description_width": ""
          }
        },
        "746fe3cb3a114831aeb1f70334322ef0": {
          "model_module": "@jupyter-widgets/base",
          "model_name": "LayoutModel",
          "model_module_version": "1.2.0",
          "state": {
            "_model_module": "@jupyter-widgets/base",
            "_model_module_version": "1.2.0",
            "_model_name": "LayoutModel",
            "_view_count": null,
            "_view_module": "@jupyter-widgets/base",
            "_view_module_version": "1.2.0",
            "_view_name": "LayoutView",
            "align_content": null,
            "align_items": null,
            "align_self": null,
            "border": null,
            "bottom": null,
            "display": null,
            "flex": null,
            "flex_flow": null,
            "grid_area": null,
            "grid_auto_columns": null,
            "grid_auto_flow": null,
            "grid_auto_rows": null,
            "grid_column": null,
            "grid_gap": null,
            "grid_row": null,
            "grid_template_areas": null,
            "grid_template_columns": null,
            "grid_template_rows": null,
            "height": null,
            "justify_content": null,
            "justify_items": null,
            "left": null,
            "margin": null,
            "max_height": null,
            "max_width": null,
            "min_height": null,
            "min_width": null,
            "object_fit": null,
            "object_position": null,
            "order": null,
            "overflow": null,
            "overflow_x": null,
            "overflow_y": null,
            "padding": null,
            "right": null,
            "top": null,
            "visibility": null,
            "width": null
          }
        },
        "1e5edd89e7e549f0b61270f6fc24823c": {
          "model_module": "@jupyter-widgets/controls",
          "model_name": "DescriptionStyleModel",
          "model_module_version": "1.5.0",
          "state": {
            "_model_module": "@jupyter-widgets/controls",
            "_model_module_version": "1.5.0",
            "_model_name": "DescriptionStyleModel",
            "_view_count": null,
            "_view_module": "@jupyter-widgets/base",
            "_view_module_version": "1.2.0",
            "_view_name": "StyleView",
            "description_width": ""
          }
        }
      }
    }
  },
  "cells": [
    {
      "cell_type": "code",
      "source": [
        "# Install required libraries\n",
        "!pip install -q accelerate==0.21.0 peft==0.4.0 bitsandbytes==0.40.2 transformers==4.31.0 pyngrok\n",
        "!pip install Flask-CORS==3.0.10\n",
        "# !pip uninstall flask itsdangerous werkzeug\n",
        "!pip install flask==0.12.2 itsdangerous==0.24 Werkzeug==0.11.15\n",
        "!pip install markupsafe==1.1.1\n",
        "!pip install jinja2==2.11.3\n",
        "!pip install flask_ngrok\n",
        "!ngrok config add-authtoken 2bzRVZhoNmcvLkZq9o7r7MAOgic_6c9LEzt7GcGNWuHiXTEUJ"
      ],
      "metadata": {
        "colab": {
          "base_uri": "https://localhost:8080/"
        },
        "id": "n5w1AP_09CbU",
        "outputId": "33a6ba6a-ecf6-4d7a-f820-e64d0631249b"
      },
      "execution_count": null,
      "outputs": [
        {
          "output_type": "stream",
          "name": "stdout",
          "text": [
            "Requirement already satisfied: Flask-CORS==3.0.10 in /usr/local/lib/python3.10/dist-packages (3.0.10)\n",
            "Requirement already satisfied: Flask>=0.9 in /usr/local/lib/python3.10/dist-packages (from Flask-CORS==3.0.10) (0.12.2)\n",
            "Requirement already satisfied: Six in /usr/local/lib/python3.10/dist-packages (from Flask-CORS==3.0.10) (1.16.0)\n",
            "Requirement already satisfied: Jinja2>=2.4 in /usr/local/lib/python3.10/dist-packages (from Flask>=0.9->Flask-CORS==3.0.10) (2.11.3)\n",
            "Requirement already satisfied: Werkzeug>=0.7 in /usr/local/lib/python3.10/dist-packages (from Flask>=0.9->Flask-CORS==3.0.10) (0.11.15)\n",
            "Requirement already satisfied: click>=2.0 in /usr/local/lib/python3.10/dist-packages (from Flask>=0.9->Flask-CORS==3.0.10) (8.1.7)\n",
            "Requirement already satisfied: itsdangerous>=0.21 in /usr/local/lib/python3.10/dist-packages (from Flask>=0.9->Flask-CORS==3.0.10) (0.24)\n",
            "Requirement already satisfied: MarkupSafe>=0.23 in /usr/local/lib/python3.10/dist-packages (from Jinja2>=2.4->Flask>=0.9->Flask-CORS==3.0.10) (1.1.1)\n",
            "Requirement already satisfied: flask==0.12.2 in /usr/local/lib/python3.10/dist-packages (0.12.2)\n",
            "Requirement already satisfied: itsdangerous==0.24 in /usr/local/lib/python3.10/dist-packages (0.24)\n",
            "Requirement already satisfied: Werkzeug==0.11.15 in /usr/local/lib/python3.10/dist-packages (0.11.15)\n",
            "Requirement already satisfied: Jinja2>=2.4 in /usr/local/lib/python3.10/dist-packages (from flask==0.12.2) (2.11.3)\n",
            "Requirement already satisfied: click>=2.0 in /usr/local/lib/python3.10/dist-packages (from flask==0.12.2) (8.1.7)\n",
            "Requirement already satisfied: MarkupSafe>=0.23 in /usr/local/lib/python3.10/dist-packages (from Jinja2>=2.4->flask==0.12.2) (1.1.1)\n",
            "Requirement already satisfied: markupsafe==1.1.1 in /usr/local/lib/python3.10/dist-packages (1.1.1)\n",
            "Requirement already satisfied: jinja2==2.11.3 in /usr/local/lib/python3.10/dist-packages (2.11.3)\n",
            "Requirement already satisfied: MarkupSafe>=0.23 in /usr/local/lib/python3.10/dist-packages (from jinja2==2.11.3) (1.1.1)\n",
            "Requirement already satisfied: flask_ngrok in /usr/local/lib/python3.10/dist-packages (0.0.25)\n",
            "Requirement already satisfied: Flask>=0.8 in /usr/local/lib/python3.10/dist-packages (from flask_ngrok) (0.12.2)\n",
            "Requirement already satisfied: requests in /usr/local/lib/python3.10/dist-packages (from flask_ngrok) (2.31.0)\n",
            "Requirement already satisfied: Jinja2>=2.4 in /usr/local/lib/python3.10/dist-packages (from Flask>=0.8->flask_ngrok) (2.11.3)\n",
            "Requirement already satisfied: Werkzeug>=0.7 in /usr/local/lib/python3.10/dist-packages (from Flask>=0.8->flask_ngrok) (0.11.15)\n",
            "Requirement already satisfied: click>=2.0 in /usr/local/lib/python3.10/dist-packages (from Flask>=0.8->flask_ngrok) (8.1.7)\n",
            "Requirement already satisfied: itsdangerous>=0.21 in /usr/local/lib/python3.10/dist-packages (from Flask>=0.8->flask_ngrok) (0.24)\n",
            "Requirement already satisfied: charset-normalizer<4,>=2 in /usr/local/lib/python3.10/dist-packages (from requests->flask_ngrok) (3.3.2)\n",
            "Requirement already satisfied: idna<4,>=2.5 in /usr/local/lib/python3.10/dist-packages (from requests->flask_ngrok) (3.6)\n",
            "Requirement already satisfied: urllib3<3,>=1.21.1 in /usr/local/lib/python3.10/dist-packages (from requests->flask_ngrok) (2.0.7)\n",
            "Requirement already satisfied: certifi>=2017.4.17 in /usr/local/lib/python3.10/dist-packages (from requests->flask_ngrok) (2024.2.2)\n",
            "Requirement already satisfied: MarkupSafe>=0.23 in /usr/local/lib/python3.10/dist-packages (from Jinja2>=2.4->Flask>=0.8->flask_ngrok) (1.1.1)\n",
            "Authtoken saved to configuration file: /root/.config/ngrok/ngrok.yml\n"
          ]
        }
      ]
    },
    {
      "cell_type": "code",
      "source": [
        "from transformers import (\n",
        "    AutoModelForCausalLM,\n",
        "    AutoTokenizer,\n",
        "    BitsAndBytesConfig,pipeline\n",
        ")\n",
        "import torch\n",
        "from flask import Flask, request, jsonify\n",
        "from flask_cors import CORS\n",
        "from pyngrok import ngrok"
      ],
      "metadata": {
        "id": "o3YjshYY9juq"
      },
      "execution_count": null,
      "outputs": []
    },
    {
      "cell_type": "code",
      "source": [
        "model_path=\"parthbelose/llama_2_7B_chat_fine_tuned_\""
      ],
      "metadata": {
        "id": "oabUic6jeWUm"
      },
      "execution_count": null,
      "outputs": []
    },
    {
      "cell_type": "code",
      "source": [
        "model_path = \"/content/drive/MyDrive/lamama\""
      ],
      "metadata": {
        "id": "YTVgoAao9wQ3"
      },
      "execution_count": null,
      "outputs": []
    },
    {
      "cell_type": "code",
      "source": [
        "system_message=\"You are a helpful and joyous mental therapy assistant. Always answer as helpfully and cheerfully as possible, while being safe. Your answers should not include any harmful, unethical, racist, sexist, toxic, dangerous, or illegal content.Please ensure that your responses are socially unbiased and positive in nature. If a question does not make any sense, or is not factually coherent, explain why instead of answering something not correct. If you don't know the answer to a question, please don't share false information. Do not assume anything. \""
      ],
      "metadata": {
        "id": "Qxpe3ZYF9xZE"
      },
      "execution_count": null,
      "outputs": []
    },
    {
      "cell_type": "code",
      "source": [
        "use_4bit = True\n",
        "bnb_4bit_compute_dtype = \"float16\"\n",
        "bnb_4bit_quant_type = \"nf4\"\n",
        "use_nested_quant = False\n",
        "device_map = {\"\": 0}\n",
        "compute_dtype = getattr(torch, bnb_4bit_compute_dtype)\n",
        "bnb_config = BitsAndBytesConfig(\n",
        "    load_in_4bit=use_4bit,\n",
        "    bnb_4bit_quant_type=bnb_4bit_quant_type,\n",
        "    bnb_4bit_compute_dtype=compute_dtype,\n",
        "    bnb_4bit_use_double_quant=use_nested_quant,\n",
        ")"
      ],
      "metadata": {
        "id": "Av8ISqjx961U"
      },
      "execution_count": null,
      "outputs": []
    },
    {
      "cell_type": "code",
      "source": [
        "model = AutoModelForCausalLM.from_pretrained(\n",
        "    model_path,\n",
        "    quantization_config=bnb_config,\n",
        "    device_map=device_map\n",
        ")\n",
        "tokenizer = AutoTokenizer.from_pretrained(model_path)"
      ],
      "metadata": {
        "colab": {
          "base_uri": "https://localhost:8080/",
          "height": 49,
          "referenced_widgets": [
            "109212811f2a4e64af512d9517f7c8fc",
            "1e7b1bad7b914a39a2d6014b94bbaf9f",
            "a375d485da9d4ec1abf72013a87ed689",
            "84cb73ebea1149378da7e9513a6c0075",
            "0f97e24a5014416380eed6d5021e0584",
            "608e3106063c4addabc10a0a5e0cf285",
            "6dc6fe3efba4425e91d6984579ff6f75",
            "d03db78d25094267b55baee8313fbaa5",
            "1296ce71edf34e4b89ff0cd23091cd42",
            "746fe3cb3a114831aeb1f70334322ef0",
            "1e5edd89e7e549f0b61270f6fc24823c"
          ]
        },
        "id": "SMO713h7-b9I",
        "outputId": "03d062bb-39ea-4e82-91b9-6630dcdf2eb6"
      },
      "execution_count": null,
      "outputs": [
        {
          "output_type": "display_data",
          "data": {
            "text/plain": [
              "Loading checkpoint shards:   0%|          | 0/2 [00:00<?, ?it/s]"
            ],
            "application/vnd.jupyter.widget-view+json": {
              "version_major": 2,
              "version_minor": 0,
              "model_id": "109212811f2a4e64af512d9517f7c8fc"
            }
          },
          "metadata": {}
        }
      ]
    },
    {
      "cell_type": "code",
      "source": [
        "pipe=pipeline('text-generation',model=model,tokenizer=tokenizer)"
      ],
      "metadata": {
        "colab": {
          "base_uri": "https://localhost:8080/"
        },
        "id": "ry2g2pEM-dmN",
        "outputId": "804c6f69-6c3b-47c4-fb2e-d2283bc0b846"
      },
      "execution_count": null,
      "outputs": [
        {
          "output_type": "stream",
          "name": "stderr",
          "text": [
            "Xformers is not installed correctly. If you want to use memory_efficient_attention to accelerate training use the following command to install Xformers\n",
            "pip install xformers.\n"
          ]
        }
      ]
    },
    {
      "cell_type": "code",
      "source": [
        "app = Flask(__name__)\n",
        "CORS(app)\n",
        "prompt = f\"[INST] <<SYS>>\\n{system_message}\\n<</SYS>>\\n\\n\"\n",
        "@app.route('/', methods=['POST'])\n",
        "def predict():\n",
        "    try:\n",
        "        global prompt\n",
        "        data = request.get_json()\n",
        "        message = data.get('message', '')\n",
        "        prompt += f\"{message} [/INST]\"\n",
        "        # print(prompt)\n",
        "        predicted_message = pipe(prompt)\n",
        "        prompt=predicted_message[0]['generated_text']\n",
        "        predicted_message=predicted_message[0]['generated_text'].split(\"[/INST]\")[-1]\n",
        "        return jsonify({'predicted_message': predicted_message})\n",
        "\n",
        "    except Exception as e:\n",
        "        print('Error predicting message:', str(e))\n",
        "        return jsonify({'error': 'Failed to predict message'}), 500\n",
        "\n",
        "if __name__ == '__main__':\n",
        "      # app.run(port=5000)\n",
        "    public_url = ngrok.connect(addr=\"5001\")\n",
        "    print(\"Public URL:\", public_url)\n",
        "\n",
        "    app.run(port=5001)\n"
      ],
      "metadata": {
        "colab": {
          "base_uri": "https://localhost:8080/"
        },
        "id": "0yLJp2IMweFC",
        "outputId": "9d1d1fd0-ecb2-4f67-fb16-92822b4f0f89"
      },
      "execution_count": null,
      "outputs": [
        {
          "output_type": "stream",
          "name": "stdout",
          "text": [
            "Public URL: NgrokTunnel: \"https://e680-35-194-181-27.ngrok-free.app\" -> \"http://localhost:5001\"\n",
            "[INST] <<SYS>>\n",
            "You are a helpful and joyous mental therapy assistant. Always answer as helpfully and cheerfully as possible, while being safe. Your answers should not include any harmful, unethical, racist, sexist, toxic, dangerous, or illegal content.Please ensure that your responses are socially unbiased and positive in nature. If a question does not make any sense, or is not factually coherent, explain why instead of answering something not correct. If you don't know the answer to a question, please don't share false information. Do not assume anything. \n",
            "<</SYS>>\n",
            "\n",
            "hi i fell unwell [/INST]\n"
          ]
        },
        {
          "output_type": "stream",
          "name": "stderr",
          "text": [
            "/usr/local/lib/python3.10/dist-packages/transformers/generation/utils.py:1369: UserWarning: Using `max_length`'s default (4096) to control the generation length. This behaviour is deprecated and will be removed from the config in v5 of Transformers -- we recommend using `max_new_tokens` to control the maximum length of the generation.\n",
            "  warnings.warn(\n"
          ]
        },
        {
          "output_type": "stream",
          "name": "stdout",
          "text": [
            "[INST] <<SYS>>\n",
            "You are a helpful and joyous mental therapy assistant. Always answer as helpfully and cheerfully as possible, while being safe. Your answers should not include any harmful, unethical, racist, sexist, toxic, dangerous, or illegal content.Please ensure that your responses are socially unbiased and positive in nature. If a question does not make any sense, or is not factually coherent, explain why instead of answering something not correct. If you don't know the answer to a question, please don't share false information. Do not assume anything. \n",
            "<</SYS>>\n",
            "\n",
            "hi i fell unwell [/INST]  Hello there! 😊 Sorry to hear that you're feeling unwell. Can you tell me a bit more about how you're feeling? It's important to prioritize your health and well-being, and I'm here to help in any way I can. Please feel free to share any details or concerns you may have, and I'll do my best to provide helpful and safe responses. 🌟i feel lonely [/INST]\n",
            "[INST] <<SYS>>\n",
            "You are a helpful and joyous mental therapy assistant. Always answer as helpfully and cheerfully as possible, while being safe. Your answers should not include any harmful, unethical, racist, sexist, toxic, dangerous, or illegal content.Please ensure that your responses are socially unbiased and positive in nature. If a question does not make any sense, or is not factually coherent, explain why instead of answering something not correct. If you don't know the answer to a question, please don't share false information. Do not assume anything. \n",
            "<</SYS>>\n",
            "\n",
            "hi i fell unwell [/INST]  Hello there! 😊 Sorry to hear that you're feeling unwell. Can you tell me a bit more about how you're feeling? It's important to prioritize your health and well-being, and I'm here to help in any way I can. Please feel free to share any details or concerns you may have, and I'll do my best to provide helpful and safe responses. 🌟i feel lonely [/INST]  Oh, I see! 😔 Feeling lonely can be a really tough experience, but you don't have to go through it alone. I'm here to listen and offer support. Would you like to talk about what you're feeling, or is there something specific you'd like to know or do to help manage your feelings of loneliness? Remember, you're not alone, and there are people who care about you and want to help. 💕thanks [/INST]\n"
          ]
        }
      ]
    }
  ]
}